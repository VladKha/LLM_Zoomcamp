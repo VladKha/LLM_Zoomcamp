{
 "cells": [
  {
   "cell_type": "code",
   "id": "ef8e9cdc-dfd4-4e54-a332-4b9bde4e6047",
   "metadata": {
    "ExecuteTime": {
     "end_time": "2024-07-05T20:36:39.825379Z",
     "start_time": "2024-07-05T20:36:39.558237Z"
    }
   },
   "source": [
    "from openai import OpenAI\n",
    "\n",
    "client = OpenAI(\n",
    "    base_url='http://localhost:11434/v1/',\n",
    "    api_key='ollama',\n",
    ")"
   ],
   "outputs": [],
   "execution_count": 1
  },
  {
   "cell_type": "code",
   "id": "2c05052f-a85a-4137-8398-0fd0be678599",
   "metadata": {
    "ExecuteTime": {
     "end_time": "2024-07-05T20:36:40.788437Z",
     "start_time": "2024-07-05T20:36:40.702245Z"
    }
   },
   "source": [
    "from elasticsearch import Elasticsearch"
   ],
   "outputs": [],
   "execution_count": 2
  },
  {
   "cell_type": "code",
   "id": "a78df1cc-5a5a-40b4-b673-19c7f0319453",
   "metadata": {
    "ExecuteTime": {
     "end_time": "2024-07-05T20:36:41.273139Z",
     "start_time": "2024-07-05T20:36:41.270420Z"
    }
   },
   "source": [
    "es_client = Elasticsearch('http://localhost:9200') "
   ],
   "outputs": [],
   "execution_count": 3
  },
  {
   "cell_type": "code",
   "id": "c9367c18-41ad-495e-9920-1a0c552f0d18",
   "metadata": {
    "ExecuteTime": {
     "end_time": "2024-07-05T20:36:41.861654Z",
     "start_time": "2024-07-05T20:36:41.670787Z"
    }
   },
   "source": [
    "index_settings = {\n",
    "    \"settings\": {\n",
    "        \"number_of_shards\": 1,\n",
    "        \"number_of_replicas\": 0\n",
    "    },\n",
    "    \"mappings\": {\n",
    "        \"properties\": {\n",
    "            \"text\": {\"type\": \"text\"},\n",
    "            \"section\": {\"type\": \"text\"},\n",
    "            \"question\": {\"type\": \"text\"},\n",
    "            \"course\": {\"type\": \"keyword\"} \n",
    "        }\n",
    "    }\n",
    "}\n",
    "\n",
    "index_name = \"course-questions\"\n",
    "\n",
    "es_client.indices.create(index=index_name, body=index_settings)"
   ],
   "outputs": [
    {
     "data": {
      "text/plain": [
       "ObjectApiResponse({'acknowledged': True, 'shards_acknowledged': True, 'index': 'course-questions'})"
      ]
     },
     "execution_count": 4,
     "metadata": {},
     "output_type": "execute_result"
    }
   ],
   "execution_count": 4
  },
  {
   "cell_type": "code",
   "id": "e131e3a3-4051-4fd7-8e4d-d17c2af2ad75",
   "metadata": {
    "ExecuteTime": {
     "end_time": "2024-07-05T20:36:43.677379Z",
     "start_time": "2024-07-05T20:36:42.931358Z"
    }
   },
   "source": [
    "import requests \n",
    "\n",
    "docs_url = 'https://github.com/DataTalksClub/llm-zoomcamp/blob/main/01-intro/documents.json?raw=1'\n",
    "docs_response = requests.get(docs_url)\n",
    "documents_raw = docs_response.json()\n",
    "\n",
    "documents = []\n",
    "\n",
    "for course in documents_raw:\n",
    "    course_name = course['course']\n",
    "\n",
    "    for doc in course['documents']:\n",
    "        doc['course'] = course_name\n",
    "        documents.append(doc)"
   ],
   "outputs": [],
   "execution_count": 5
  },
  {
   "cell_type": "code",
   "id": "5c230059-e219-4a13-a7f8-ede4cf1b028f",
   "metadata": {
    "ExecuteTime": {
     "end_time": "2024-07-05T20:36:43.689105Z",
     "start_time": "2024-07-05T20:36:43.678381Z"
    }
   },
   "source": [
    "from tqdm.auto import tqdm"
   ],
   "outputs": [
    {
     "name": "stderr",
     "output_type": "stream",
     "text": [
      "/Users/vladkha/Desktop/Workspace/Coding/Online_courses/DataTalksClub/LLM_Zoomcamp/.venv/lib/python3.11/site-packages/tqdm/auto.py:21: TqdmWarning: IProgress not found. Please update jupyter and ipywidgets. See https://ipywidgets.readthedocs.io/en/stable/user_install.html\n",
      "  from .autonotebook import tqdm as notebook_tqdm\n"
     ]
    }
   ],
   "execution_count": 6
  },
  {
   "cell_type": "code",
   "id": "70fe3c97-916d-42c0-bd7b-4f42d9056409",
   "metadata": {
    "ExecuteTime": {
     "end_time": "2024-07-05T20:36:50.308185Z",
     "start_time": "2024-07-05T20:36:47.638426Z"
    }
   },
   "source": [
    "for doc in tqdm(documents):\n",
    "    es_client.index(index=index_name, document=doc)"
   ],
   "outputs": [
    {
     "name": "stderr",
     "output_type": "stream",
     "text": [
      "100%|██████████| 948/948 [00:02<00:00, 357.09it/s]\n"
     ]
    }
   ],
   "execution_count": 7
  },
  {
   "cell_type": "code",
   "id": "7c72e000-910b-4fb5-aa88-2561e7bc39f2",
   "metadata": {
    "ExecuteTime": {
     "end_time": "2024-07-05T20:36:55.628285Z",
     "start_time": "2024-07-05T20:36:55.625438Z"
    }
   },
   "source": [
    "def elastic_search(query):\n",
    "    search_query = {\n",
    "        \"size\": 5,\n",
    "        \"query\": {\n",
    "            \"bool\": {\n",
    "                \"must\": {\n",
    "                    \"multi_match\": {\n",
    "                        \"query\": query,\n",
    "                        \"fields\": [\"question^3\", \"text\", \"section\"],\n",
    "                        \"type\": \"best_fields\"\n",
    "                    }\n",
    "                },\n",
    "                \"filter\": {\n",
    "                    \"term\": {\n",
    "                        \"course\": \"data-engineering-zoomcamp\"\n",
    "                    }\n",
    "                }\n",
    "            }\n",
    "        }\n",
    "    }\n",
    "\n",
    "    response = es_client.search(index=index_name, body=search_query)\n",
    "    \n",
    "    result_docs = []\n",
    "    \n",
    "    for hit in response['hits']['hits']:\n",
    "        result_docs.append(hit['_source'])\n",
    "    \n",
    "    return result_docs"
   ],
   "outputs": [],
   "execution_count": 8
  },
  {
   "cell_type": "code",
   "id": "bdc51143-f861-46e2-8a8f-e5c6a324f53b",
   "metadata": {
    "ExecuteTime": {
     "end_time": "2024-07-05T20:36:56.197856Z",
     "start_time": "2024-07-05T20:36:56.194555Z"
    }
   },
   "source": [
    "def build_prompt(query, search_results):\n",
    "    prompt_template = \"\"\"\n",
    "You're a course teaching assistant. Answer the QUESTION based on the CONTEXT from the FAQ database.\n",
    "Use only the facts from the CONTEXT when answering the QUESTION.\n",
    "\n",
    "QUESTION: {question}\n",
    "\n",
    "CONTEXT: \n",
    "{context}\n",
    "\"\"\".strip()\n",
    "\n",
    "    context = \"\"\n",
    "    \n",
    "    for doc in search_results:\n",
    "        context = context + f\"section: {doc['section']}\\nquestion: {doc['question']}\\nanswer: {doc['text']}\\n\\n\"\n",
    "    \n",
    "    prompt = prompt_template.format(question=query, context=context).strip()\n",
    "    return prompt\n",
    "\n",
    "def llm(prompt):\n",
    "    response = client.chat.completions.create(\n",
    "        model='phi3',\n",
    "        messages=[{\"role\": \"user\", \"content\": prompt}]\n",
    "    )\n",
    "    \n",
    "    return response.choices[0].message.content"
   ],
   "outputs": [],
   "execution_count": 9
  },
  {
   "cell_type": "code",
   "id": "81abecbc-eb6b-428f-ab7d-7e21f58b64de",
   "metadata": {
    "ExecuteTime": {
     "end_time": "2024-07-05T20:36:56.782759Z",
     "start_time": "2024-07-05T20:36:56.780696Z"
    }
   },
   "source": [
    "def rag(query):\n",
    "    search_results = elastic_search(query)\n",
    "    prompt = build_prompt(query, search_results)\n",
    "    answer = llm(prompt)\n",
    "    return answer"
   ],
   "outputs": [],
   "execution_count": 10
  },
  {
   "cell_type": "code",
   "id": "0ea9315a-a619-4066-9e90-8c260f2c8450",
   "metadata": {
    "ExecuteTime": {
     "end_time": "2024-07-05T20:38:33.362005Z",
     "start_time": "2024-07-05T20:36:57.311864Z"
    }
   },
   "source": [
    "%%time\n",
    "\n",
    "query = 'I just discovered the course. Can I still join it?'\n",
    "rag(query)"
   ],
   "outputs": [
    {
     "name": "stdout",
     "output_type": "stream",
     "text": [
      "CPU times: user 12.5 ms, sys: 23.1 ms, total: 35.6 ms\n",
      "Wall time: 1min 36s\n"
     ]
    },
    {
     "data": {
      "text/plain": [
       "\" Based on the provided FAQ database, yes, you are still eligible to submit your work after discovering the course even if it's past its starting registration deadline (although there might be specific deadlines for final projects). This suggests that late registrations or joining can often accommodate submitting homework as long as some conditions regarding submission timelines have been met. It is advisable to review these project submission guidelines and act promptly if needed, while keeping in mind not everything must be completed at the very last minute. \\n\\nFurthermore, you're encouraged that all course materials will remain accessible after completing the bootcamp for self-study purposes or preparations towards a future cohort - ensuring continuous learning and project work beyond your immediate involvement with this specific program can be facilitated by accessing these resources. \\n\\nAdditionally, should you face any challenges during the course's duration—particularly in the self-paced mode where direct instructor support may not always be readily available—there are established avenues for assistance such as Slack channel discussions and leveraging FAQ documentation or consulting with automated help (Zoomcampbot). These resources provide practical solutions to common queries, allowing students like yourself the flexibility needed during self-paced learning.\\n\\nIn summary, discovering your interest in an open course presents no barriers from submitting assignments and utilizing available materials even post start date or after enrollment closure—as long as you are following guidelines for project timelines provided by the instructors of such programs that allow this kind of flexibility. It is crucial to be proactive with respecting final deadlines, being prepared before commencement and actively seeking resources like Slack or FAQ documentation should any questions arise during your self-directed learning journey in a course setting outside traditional classroom time frames.\""
      ]
     },
     "execution_count": 11,
     "metadata": {},
     "output_type": "execute_result"
    }
   ],
   "execution_count": 11
  },
  {
   "cell_type": "code",
   "execution_count": null,
   "id": "d8095274-c9cd-4fd5-80d2-069fc951834f",
   "metadata": {},
   "outputs": [],
   "source": []
  }
 ],
 "metadata": {
  "kernelspec": {
   "display_name": "Python 3 (ipykernel)",
   "language": "python",
   "name": "python3"
  },
  "language_info": {
   "codemirror_mode": {
    "name": "ipython",
    "version": 3
   },
   "file_extension": ".py",
   "mimetype": "text/x-python",
   "name": "python",
   "nbconvert_exporter": "python",
   "pygments_lexer": "ipython3",
   "version": "3.11.9"
  }
 },
 "nbformat": 4,
 "nbformat_minor": 5
}
