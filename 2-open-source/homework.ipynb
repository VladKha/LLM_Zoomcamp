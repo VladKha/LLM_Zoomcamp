{
 "cells": [
  {
   "metadata": {},
   "cell_type": "markdown",
   "source": [
    "### Q3. Running the LLM\n",
    "Test the following prompt: \"10 * 10\". What's the answer?"
   ],
   "id": "c31da198850163c7"
  },
  {
   "metadata": {
    "ExecuteTime": {
     "end_time": "2024-07-05T21:52:48.260652Z",
     "start_time": "2024-07-05T21:52:47.986368Z"
    }
   },
   "cell_type": "code",
   "source": [
    "from openai import OpenAI\n",
    "\n",
    "\n",
    "client = OpenAI(\n",
    "    base_url='http://localhost:11434/v1/',\n",
    "    api_key='ollama',\n",
    ")"
   ],
   "id": "d0c0867cbdba8fce",
   "outputs": [],
   "execution_count": 1
  },
  {
   "metadata": {
    "ExecuteTime": {
     "end_time": "2024-07-05T21:52:48.958318Z",
     "start_time": "2024-07-05T21:52:48.955210Z"
    }
   },
   "cell_type": "code",
   "source": [
    "def llm(prompt):\n",
    "    response = client.chat.completions.create(\n",
    "        model='gemma:2b',\n",
    "        messages=[{\"role\": \"user\", \"content\": prompt}]\n",
    "    )\n",
    "    \n",
    "    return response.choices[0].message.content"
   ],
   "id": "b12fbde791bc25db",
   "outputs": [],
   "execution_count": 2
  },
  {
   "metadata": {
    "ExecuteTime": {
     "end_time": "2024-07-05T21:52:53.991771Z",
     "start_time": "2024-07-05T21:52:52.142303Z"
    }
   },
   "cell_type": "code",
   "source": [
    "%%time\n",
    "llm('10 * 10')"
   ],
   "id": "27ff87e7865e903b",
   "outputs": [
    {
     "name": "stdout",
     "output_type": "stream",
     "text": [
      "CPU times: user 9.76 ms, sys: 9.27 ms, total: 19 ms\n",
      "Wall time: 1.84 s\n"
     ]
    },
    {
     "data": {
      "text/plain": [
       "'Sure, here is the completed turn:\\n\\n10 * 10 = 100\\n\\n'"
      ]
     },
     "execution_count": 3,
     "metadata": {},
     "output_type": "execute_result"
    }
   ],
   "execution_count": 3
  },
  {
   "metadata": {
    "ExecuteTime": {
     "end_time": "2024-07-05T21:52:23.988940Z",
     "start_time": "2024-07-05T21:52:23.987031Z"
    }
   },
   "cell_type": "code",
   "source": "print(_)",
   "id": "7233fb00d4192ec8",
   "outputs": [
    {
     "name": "stdout",
     "output_type": "stream",
     "text": [
      "The model is correct, but it has a syntax error. It should be:\n",
      "\n",
      "```\n",
      "10 * 10^end_of_turn\n",
      "```\n",
      "\n",
      "**Explanation of the Syntax Error:**\n",
      "\n",
      "*\n"
     ]
    }
   ],
   "execution_count": 4
  },
  {
   "metadata": {},
   "cell_type": "markdown",
   "source": "### Q6",
   "id": "9d4960d9cf6525ca"
  },
  {
   "metadata": {
    "ExecuteTime": {
     "end_time": "2024-07-05T22:21:58.130872Z",
     "start_time": "2024-07-05T22:21:34.971369Z"
    }
   },
   "cell_type": "code",
   "source": [
    "%%time\n",
    "\n",
    "response = client.chat.completions.create(\n",
    "        model='gemma:2b',\n",
    "        messages=[{\"role\": \"user\", \"content\": \"What's the formula for energy?\"}],\n",
    "        temperature=0.0\n",
    ")"
   ],
   "id": "9a30fdb3de732e70",
   "outputs": [
    {
     "name": "stdout",
     "output_type": "stream",
     "text": [
      "CPU times: user 4.7 ms, sys: 9.24 ms, total: 13.9 ms\n",
      "Wall time: 23.2 s\n"
     ]
    }
   ],
   "execution_count": 18
  },
  {
   "metadata": {
    "ExecuteTime": {
     "end_time": "2024-07-05T22:21:58.135607Z",
     "start_time": "2024-07-05T22:21:58.132821Z"
    }
   },
   "cell_type": "code",
   "source": "print(response.choices[0].message.content)",
   "id": "33925a50fdd97cd7",
   "outputs": [
    {
     "name": "stdout",
     "output_type": "stream",
     "text": [
      "Sure, here's the formula for energy:\n",
      "\n",
      "**E = K + U**\n",
      "\n",
      "Where:\n",
      "\n",
      "* **E** is the energy in joules (J)\n",
      "* **K** is the kinetic energy in joules (J)\n",
      "* **U** is the potential energy in joules (J)\n",
      "\n",
      "**Kinetic energy (K)** is the energy an object possesses when it moves or is in motion. It is calculated as half the product of an object's mass (m) and its velocity (v) squared:\n",
      "\n",
      "**K = 1/2mv^2**\n",
      "\n",
      "**Potential energy (U)** is the energy an object possesses due to its position or configuration. It is calculated as the product of an object's mass, gravitational constant (g), and height or position above a reference point.\n",
      "\n",
      "**U = mgh**\n",
      "\n",
      "Where:\n",
      "\n",
      "* **m** is the mass in kilograms (kg)\n",
      "* **g** is the gravitational constant (9.8 m/s^2)\n",
      "* **h** is the height or position in meters (m)\n",
      "\n",
      "The formula shows that energy can be expressed as the sum of kinetic and potential energy. The kinetic energy is a measure of the object's ability to do work, while the potential energy is a measure of the object's ability to do work against a force.\n"
     ]
    }
   ],
   "execution_count": 19
  },
  {
   "metadata": {
    "ExecuteTime": {
     "end_time": "2024-07-05T22:21:58.161122Z",
     "start_time": "2024-07-05T22:21:58.136309Z"
    }
   },
   "cell_type": "code",
   "source": "response.usage",
   "id": "762e08d08c4a7dca",
   "outputs": [
    {
     "data": {
      "text/plain": [
       "CompletionUsage(completion_tokens=281, prompt_tokens=0, total_tokens=281)"
      ]
     },
     "execution_count": 20,
     "metadata": {},
     "output_type": "execute_result"
    }
   ],
   "execution_count": 20
  },
  {
   "metadata": {},
   "cell_type": "code",
   "outputs": [],
   "execution_count": null,
   "source": "",
   "id": "f14da3c235693996"
  }
 ],
 "metadata": {
  "kernelspec": {
   "display_name": "Python 3",
   "language": "python",
   "name": "python3"
  },
  "language_info": {
   "codemirror_mode": {
    "name": "ipython",
    "version": 2
   },
   "file_extension": ".py",
   "mimetype": "text/x-python",
   "name": "python",
   "nbconvert_exporter": "python",
   "pygments_lexer": "ipython2",
   "version": "2.7.6"
  }
 },
 "nbformat": 4,
 "nbformat_minor": 5
}
