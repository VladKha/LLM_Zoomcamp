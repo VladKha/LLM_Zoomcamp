{
 "cells": [
  {
   "cell_type": "code",
   "id": "506fab2a-a50c-42bd-a106-c83a9d2828ea",
   "metadata": {
    "ExecuteTime": {
     "end_time": "2024-07-03T20:22:11.065897Z",
     "start_time": "2024-07-03T20:22:11.063528Z"
    }
   },
   "source": [
    "# !rm -f minsearch.py\n",
    "# !wget https://raw.githubusercontent.com/alexeygrigorev/minsearch/main/minsearch.py"
   ],
   "outputs": [],
   "execution_count": 1
  },
  {
   "cell_type": "code",
   "id": "3ac947de-effd-4b61-8792-a6d7a133f347",
   "metadata": {
    "ExecuteTime": {
     "end_time": "2024-07-03T20:49:36.138366Z",
     "start_time": "2024-07-03T20:49:33.975042Z"
    }
   },
   "source": [
    "import requests \n",
    "import minsearch\n",
    "\n",
    "docs_url = 'https://github.com/DataTalksClub/llm-zoomcamp/blob/main/01-intro/documents.json?raw=1'\n",
    "docs_response = requests.get(docs_url)\n",
    "documents_raw = docs_response.json()\n",
    "\n",
    "documents = []\n",
    "\n",
    "for course in documents_raw:\n",
    "    course_name = course['course']\n",
    "\n",
    "    for doc in course['documents']:\n",
    "        doc['course'] = course_name\n",
    "        documents.append(doc)\n",
    "\n",
    "index = minsearch.Index(\n",
    "    text_fields=[\"question\", \"text\", \"section\"],\n",
    "    keyword_fields=[\"course\"]\n",
    ")\n",
    "\n",
    "index.fit(documents)"
   ],
   "outputs": [
    {
     "data": {
      "text/plain": [
       "<minsearch.Index at 0x1341fd190>"
      ]
     },
     "execution_count": 2,
     "metadata": {},
     "output_type": "execute_result"
    }
   ],
   "execution_count": 2
  },
  {
   "cell_type": "code",
   "id": "8f087272-b44d-4738-9ea2-175ec63a058b",
   "metadata": {
    "ExecuteTime": {
     "end_time": "2024-07-03T20:49:41.047934Z",
     "start_time": "2024-07-03T20:49:41.044479Z"
    }
   },
   "source": [
    "def search(query):\n",
    "    boost = {'question': 3.0, 'section': 0.5}\n",
    "\n",
    "    results = index.search(\n",
    "        query=query,\n",
    "        filter_dict={'course': 'data-engineering-zoomcamp'},\n",
    "        boost_dict=boost,\n",
    "        num_results=5\n",
    "    )\n",
    "\n",
    "    return results"
   ],
   "outputs": [],
   "execution_count": 3
  },
  {
   "cell_type": "code",
   "id": "742ab881-499a-4675-83c4-2013ea1377b9",
   "metadata": {
    "ExecuteTime": {
     "end_time": "2024-07-03T20:50:33.095882Z",
     "start_time": "2024-07-03T20:50:33.092663Z"
    }
   },
   "source": [
    "def build_prompt(query, search_results):\n",
    "    prompt_template = \"\"\"\n",
    "You're a course teaching assistant. Answer the QUESTION based on the CONTEXT from the FAQ database.\n",
    "Use only the facts from the CONTEXT when answering the QUESTION.\n",
    "\n",
    "QUESTION: {question}\n",
    "\n",
    "CONTEXT: \n",
    "{context}\n",
    "\"\"\".strip()\n",
    "\n",
    "    context = \"\"\n",
    "    \n",
    "    for doc in search_results:\n",
    "        context = context + f\"section: {doc['section']}\\nquestion: {doc['question']}\\nanswer: {doc['text']}\\n\\n\"\n",
    "    \n",
    "    prompt = prompt_template.format(question=query, context=context).strip()\n",
    "    return prompt\n",
    "\n",
    "def llm(prompt):\n",
    "    response = client.chat.completions.create(\n",
    "        model='phi3',\n",
    "        messages=[{\"role\": \"user\", \"content\": prompt}]\n",
    "    )\n",
    "    \n",
    "    return response.choices[0].message.content"
   ],
   "outputs": [],
   "execution_count": 6
  },
  {
   "cell_type": "code",
   "id": "fe8bff3e-b672-42be-866b-f2d9bb217106",
   "metadata": {
    "ExecuteTime": {
     "end_time": "2024-07-03T20:50:34.686291Z",
     "start_time": "2024-07-03T20:50:34.684156Z"
    }
   },
   "source": [
    "def rag(query):\n",
    "    search_results = search(query)\n",
    "    prompt = build_prompt(query, search_results)\n",
    "    answer = llm(prompt)\n",
    "    return answer"
   ],
   "outputs": [],
   "execution_count": 7
  },
  {
   "cell_type": "code",
   "id": "091a77e6-936b-448e-a04b-bad1001f5bb0",
   "metadata": {
    "ExecuteTime": {
     "end_time": "2024-07-03T20:50:36.921975Z",
     "start_time": "2024-07-03T20:50:36.581540Z"
    }
   },
   "source": [
    "from openai import OpenAI\n",
    "\n",
    "client = OpenAI(\n",
    "    base_url='http://localhost:11434/v1/',\n",
    "    api_key='ollama',\n",
    ")"
   ],
   "outputs": [],
   "execution_count": 8
  },
  {
   "cell_type": "code",
   "id": "9ee527a3-3331-4f4e-b6c8-f659ffc113f5",
   "metadata": {
    "ExecuteTime": {
     "end_time": "2024-07-03T21:34:45.828430Z",
     "start_time": "2024-07-03T21:34:35.143916Z"
    }
   },
   "source": [
    "llm('write that this is a test')"
   ],
   "outputs": [
    {
     "data": {
      "text/plain": [
       "' This is a test.\\n\\n\\nTo perform the task, I took your instruction and formatted it into a standalone sentence with proper capitalization at the beginning as per standard English grammar rules for statements: \"This is a test.\"'"
      ]
     },
     "execution_count": 15,
     "metadata": {},
     "output_type": "execute_result"
    }
   ],
   "execution_count": 15
  },
  {
   "cell_type": "code",
   "id": "21aa255e-c971-44ca-9826-a721df3ad063",
   "metadata": {
    "ExecuteTime": {
     "end_time": "2024-07-03T21:34:45.833696Z",
     "start_time": "2024-07-03T21:34:45.831037Z"
    }
   },
   "source": [
    "print(_)"
   ],
   "outputs": [
    {
     "name": "stdout",
     "output_type": "stream",
     "text": [
      " This is a test.\n",
      "\n",
      "\n",
      "To perform the task, I took your instruction and formatted it into a standalone sentence with proper capitalization at the beginning as per standard English grammar rules for statements: \"This is a test.\"\n"
     ]
    }
   ],
   "execution_count": 16
  },
  {
   "cell_type": "code",
   "execution_count": null,
   "id": "988ece59-951a-4b32-ba3f-cb8efb66a9bb",
   "metadata": {},
   "outputs": [],
   "source": []
  }
 ],
 "metadata": {
  "kernelspec": {
   "display_name": "Python 3 (ipykernel)",
   "language": "python",
   "name": "python3"
  },
  "language_info": {
   "codemirror_mode": {
    "name": "ipython",
    "version": 3
   },
   "file_extension": ".py",
   "mimetype": "text/x-python",
   "name": "python",
   "nbconvert_exporter": "python",
   "pygments_lexer": "ipython3",
   "version": "3.11.9"
  }
 },
 "nbformat": 4,
 "nbformat_minor": 5
}
